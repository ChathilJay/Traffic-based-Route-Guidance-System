{
 "cells": [
  {
   "cell_type": "code",
   "execution_count": null,
   "id": "73c1dace",
   "metadata": {},
   "outputs": [],
   "source": [
    "import numpy as np\n",
    "from sklearn.ensemble import RandomForestRegressor\n",
    "from sklearn.metrics import mean_squared_error\n",
    "from sklearn.model_selection import train_test_split\n",
    "from tensorflow.keras.models import Sequential\n",
    "from tensorflow.keras.layers import Dense, LSTM, GRU\n",
    "from tensorflow.keras.optimizers import Adam\n",
    "\n",
    "# Load data\n",
    "X = np.load('/Users/nishenpallawala/Desktop/SWIN/Traffic-based-Route-Guidance-System/Assignment2B/Main/X_all.npy')\n",
    "y = np.load('/Users/nishenpallawala/Desktop/SWIN/Traffic-based-Route-Guidance-System/Assignment2B/Main/Y_all.npy')\n",
    "\n",
    "# --- RANDOM FOREST ---\n",
    "print(\"\\n🔧 Training Random Forest...\")\n",
    "X_rf, X_rf_test, y_rf, y_rf_test = train_test_split(X, y, test_size=0.2, random_state=42)\n",
    "rf = RandomForestRegressor(n_estimators=100, random_state=42)\n",
    "rf.fit(X_rf, y_rf)\n",
    "y_rf_pred = rf.predict(X_rf_test)\n",
    "rf_rmse = mean_squared_error(y_rf_test, y_rf_pred) ** 0.5\n",
    "print(f\"Random Forest RMSE: {rf_rmse:.2f}\")\n",
    "\n",
    "# --- LSTM ---\n",
    "print(\"\\n🔧 Training LSTM...\")\n",
    "X_lstm = X.reshape((X.shape[0], X.shape[1], 1))  # [samples, timesteps, features]\n",
    "X_lstm_train, X_lstm_test, y_lstm_train, y_lstm_test = train_test_split(X_lstm, y, test_size=0.2, random_state=42)\n",
    "\n",
    "lstm = Sequential([\n",
    "    LSTM(64, input_shape=(X.shape[1], 1)),\n",
    "    Dense(1)\n",
    "])\n",
    "lstm.compile(optimizer=Adam(0.001), loss='mse')\n",
    "lstm.fit(X_lstm_train, y_lstm_train, epochs=10, batch_size=32, verbose=1)\n",
    "y_lstm_pred = lstm.predict(X_lstm_test)\n",
    "lstm_rmse = mean_squared_error(y_lstm_test, y_lstm_pred) ** 0.5\n",
    "print(f\"LSTM RMSE: {lstm_rmse:.2f}\")\n",
    "\n",
    "# --- GRU ---\n",
    "print(\"\\n🔧 Training GRU...\")\n",
    "gru = Sequential([\n",
    "    GRU(64, input_shape=(X.shape[1], 1)),\n",
    "    Dense(1)\n",
    "])\n",
    "gru.compile(optimizer=Adam(0.001), loss='mse')\n",
    "gru.fit(X_lstm_train, y_lstm_train, epochs=10, batch_size=32, verbose=1)\n",
    "y_gru_pred = gru.predict(X_lstm_test)\n",
    "gru_rmse = mean_squared_error(y_lstm_test, y_gru_pred) ** 0.5\n",
    "print(f\"GRU RMSE: {gru_rmse:.2f}\")\n"
   ]
  }
 ],
 "metadata": {
  "kernelspec": {
   "display_name": "Python 3",
   "language": "python",
   "name": "python3"
  },
  "language_info": {
   "name": "python",
   "version": "3.9.6"
  }
 },
 "nbformat": 4,
 "nbformat_minor": 5
}
