{
 "cells": [
  {
   "cell_type": "code",
   "execution_count": null,
   "id": "eaa5b158",
   "metadata": {},
   "outputs": [],
   "source": [
    "def create_sequences(data, seq_length):\n",
    "    \"\"\"\n",
    "    Converts a 1D time-series array into sequences for RNN input.\n",
    "\n",
    "    Args:\n",
    "        data (np.array): array of traffic flow values\n",
    "        seq_length (int): number of timesteps in each input sequence\n",
    "\n",
    "    Returns:\n",
    "        Tuple of (X, y) arrays\n",
    "    \"\"\"\n",
    "    X, y = [], []\n",
    "    for i in range(len(data) - seq_length):\n",
    "        X.append(data[i:i+seq_length])\n",
    "        y.append(data[i+seq_length])\n",
    "    return np.array(X), np.array(y)\n"
   ]
  }
 ],
 "metadata": {
  "language_info": {
   "name": "python"
  }
 },
 "nbformat": 4,
 "nbformat_minor": 5
}
