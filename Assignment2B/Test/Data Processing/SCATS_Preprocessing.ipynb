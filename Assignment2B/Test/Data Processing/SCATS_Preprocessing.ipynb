{
 "cells": [
  {
   "cell_type": "markdown",
   "id": "0fa51ff0",
   "metadata": {},
   "source": [
    "# SCATS Data Preprocessing\n",
    "This notebook handles the loading, cleaning, reshaping, and visualizing of SCATS traffic data."
   ]
  },
  {
   "cell_type": "code",
   "execution_count": null,
   "id": "b26c74f2",
   "metadata": {},
   "outputs": [],
   "source": [
    "import pandas as pd\n",
    "import numpy as np\n",
    "import matplotlib.pyplot as plt\n",
    "import seaborn as sns"
   ]
  },
  {
   "cell_type": "code",
   "execution_count": null,
   "id": "9ae3605c",
   "metadata": {},
   "outputs": [],
   "source": [
    "# Load SCATS data (adjust the path if needed)\n",
    "df = pd.read_csv(\"Scats Data October 2006.csv\")\n",
    "df.head()"
   ]
  },
  {
   "cell_type": "code",
   "execution_count": null,
   "id": "63915bba",
   "metadata": {},
   "outputs": [],
   "source": [
    "# Melt the time columns\n",
    "time_cols = [f'V{str(i).zfill(2)}' for i in range(1, 97)]\n",
    "df_melted = df.melt(\n",
    "    id_vars=['SCATS Number', 'Location', 'Date'],\n",
    "    value_vars=time_cols,\n",
    "    var_name='Interval',\n",
    "    value_name='Traffic_flow'\n",
    ")\n",
    "df_melted.head()"
   ]
  },
  {
   "cell_type": "code",
   "execution_count": null,
   "id": "5b94b70f",
   "metadata": {},
   "outputs": [],
   "source": [
    "# Map interval to 15-min offsets\n",
    "interval_time_map = {\n",
    "    f'V{str(i).zfill(2)}': pd.Timedelta(minutes=15 * (i - 1))\n",
    "    for i in range(1, 97)\n",
    "}\n",
    "\n",
    "df_melted['Date'] = pd.to_datetime(df_melted['Date'])\n",
    "df_melted['TimeOffset'] = df_melted['Interval'].map(interval_time_map)\n",
    "df_melted['Datetime'] = df_melted['Date'] + df_melted['TimeOffset']\n",
    "df_melted.drop(columns=['TimeOffset', 'Date', 'Interval'], inplace=True)\n",
    "df_melted = df_melted.sort_values(by=['SCATS Number', 'Datetime']).reset_index(drop=True)\n",
    "df_melted.head()"
   ]
  },
  {
   "cell_type": "code",
   "execution_count": null,
   "id": "54a2f8e7",
   "metadata": {},
   "outputs": [],
   "source": [
    "df_melted['Hour'] = df_melted['Datetime'].dt.hour\n",
    "df_melted['Day'] = df_melted['Datetime'].dt.day"
   ]
  },
  {
   "cell_type": "code",
   "execution_count": null,
   "id": "028be8d4",
   "metadata": {},
   "outputs": [],
   "source": [
    "df_melted.to_csv(\"Cleaned_dataset.csv\", index=False)\n",
    "print(\"✅ Saved Cleaned_dataset.csv\")"
   ]
  },
  {
   "cell_type": "code",
   "execution_count": null,
   "id": "c65f0c49",
   "metadata": {},
   "outputs": [],
   "source": [
    "# Sample site visualization\n",
    "sample_site = df_melted['SCATS Number'].unique()[0]\n",
    "site_df = df_melted[df_melted['SCATS Number'] == sample_site]\n",
    "\n",
    "plt.figure(figsize=(12, 4))\n",
    "plt.plot(site_df['Datetime'], site_df['Traffic_flow'])\n",
    "plt.title(f\"Traffic Flow Over Time for SCATS Site {sample_site}\")\n",
    "plt.xlabel(\"Datetime\")\n",
    "plt.ylabel(\"Traffic Flow\")\n",
    "plt.grid(True)\n",
    "plt.tight_layout()\n",
    "plt.show()"
   ]
  }
 ],
 "metadata": {},
 "nbformat": 4,
 "nbformat_minor": 5
}
