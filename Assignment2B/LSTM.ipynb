{
 "cells": [
  {
   "cell_type": "code",
   "execution_count": 1,
   "id": "d9d381ba",
   "metadata": {},
   "outputs": [],
   "source": [
    "import numpy as np\n",
    "from sklearn.model_selection import train_test_split\n",
    "import pandas as pd\n",
    "from sklearn.preprocessing import MinMaxScaler"
   ]
  },
  {
   "cell_type": "code",
   "execution_count": 2,
   "id": "b8fb16e5",
   "metadata": {},
   "outputs": [
    {
     "data": {
      "text/html": [
       "<div>\n",
       "<style scoped>\n",
       "    .dataframe tbody tr th:only-of-type {\n",
       "        vertical-align: middle;\n",
       "    }\n",
       "\n",
       "    .dataframe tbody tr th {\n",
       "        vertical-align: top;\n",
       "    }\n",
       "\n",
       "    .dataframe thead th {\n",
       "        text-align: right;\n",
       "    }\n",
       "</style>\n",
       "<table border=\"1\" class=\"dataframe\">\n",
       "  <thead>\n",
       "    <tr style=\"text-align: right;\">\n",
       "      <th></th>\n",
       "      <th>SCATS Number</th>\n",
       "      <th>Location</th>\n",
       "      <th>Date</th>\n",
       "      <th>Interval</th>\n",
       "      <th>Volume</th>\n",
       "      <th>Time</th>\n",
       "      <th>DateTime</th>\n",
       "    </tr>\n",
       "  </thead>\n",
       "  <tbody>\n",
       "    <tr>\n",
       "      <th>0</th>\n",
       "      <td>2200</td>\n",
       "      <td>UNION_RD N of MAROONDAH_HWY</td>\n",
       "      <td>2006-10-01</td>\n",
       "      <td>V00</td>\n",
       "      <td>25</td>\n",
       "      <td>00:00</td>\n",
       "      <td>2006-10-01 00:00:00</td>\n",
       "    </tr>\n",
       "    <tr>\n",
       "      <th>31</th>\n",
       "      <td>2200</td>\n",
       "      <td>MAROONDAH_HWY E of UNION_RD</td>\n",
       "      <td>2006-10-01</td>\n",
       "      <td>V00</td>\n",
       "      <td>38</td>\n",
       "      <td>00:00</td>\n",
       "      <td>2006-10-01 00:00:00</td>\n",
       "    </tr>\n",
       "    <tr>\n",
       "      <th>62</th>\n",
       "      <td>2200</td>\n",
       "      <td>UNION_RD S of MAROONDAH_HWY</td>\n",
       "      <td>2006-10-01</td>\n",
       "      <td>V00</td>\n",
       "      <td>36</td>\n",
       "      <td>00:00</td>\n",
       "      <td>2006-10-01 00:00:00</td>\n",
       "    </tr>\n",
       "    <tr>\n",
       "      <th>93</th>\n",
       "      <td>2200</td>\n",
       "      <td>MAROONDAH_HWY W of UNION_RD</td>\n",
       "      <td>2006-10-01</td>\n",
       "      <td>V00</td>\n",
       "      <td>47</td>\n",
       "      <td>00:00</td>\n",
       "      <td>2006-10-01 00:00:00</td>\n",
       "    </tr>\n",
       "    <tr>\n",
       "      <th>2883</th>\n",
       "      <td>2200</td>\n",
       "      <td>UNION_RD N of MAROONDAH_HWY</td>\n",
       "      <td>2006-10-01</td>\n",
       "      <td>V01</td>\n",
       "      <td>17</td>\n",
       "      <td>00:15</td>\n",
       "      <td>2006-10-01 00:15:00</td>\n",
       "    </tr>\n",
       "  </tbody>\n",
       "</table>\n",
       "</div>"
      ],
      "text/plain": [
       "      SCATS Number                     Location        Date Interval  Volume  \\\n",
       "0             2200  UNION_RD N of MAROONDAH_HWY  2006-10-01      V00      25   \n",
       "31            2200  MAROONDAH_HWY E of UNION_RD  2006-10-01      V00      38   \n",
       "62            2200  UNION_RD S of MAROONDAH_HWY  2006-10-01      V00      36   \n",
       "93            2200  MAROONDAH_HWY W of UNION_RD  2006-10-01      V00      47   \n",
       "2883          2200  UNION_RD N of MAROONDAH_HWY  2006-10-01      V01      17   \n",
       "\n",
       "       Time            DateTime  \n",
       "0     00:00 2006-10-01 00:00:00  \n",
       "31    00:00 2006-10-01 00:00:00  \n",
       "62    00:00 2006-10-01 00:00:00  \n",
       "93    00:00 2006-10-01 00:00:00  \n",
       "2883  00:15 2006-10-01 00:15:00  "
      ]
     },
     "execution_count": 2,
     "metadata": {},
     "output_type": "execute_result"
    }
   ],
   "source": [
    "df = pd.read_csv('../Documents/traffic_dataset_cleaned.csv')\n",
    "df['DateTime'] = pd.to_datetime(df['DateTime'])\n",
    "df = df.sort_values(['SCATS Number', 'DateTime'])\n",
    "df.head()\n"
   ]
  },
  {
   "cell_type": "code",
   "execution_count": 4,
   "id": "4130787f",
   "metadata": {},
   "outputs": [],
   "source": [
    "window = 4\n",
    "forecast = 1\n",
    "\n",
    "x_all, y_all = [],[]\n",
    "\n",
    "for site, group in df.groupby('SCATS Number'):\n",
    "    #print(f'sitenumber: {site}')\n",
    "    volumes = group['Volume'].values\n",
    "    #print(volumes)\n",
    "\n",
    "\n",
    "    for i in range(len(volumes) - window - forecast+1):\n",
    "        x_all.append(volumes[i:i+window])\n",
    "        y_all.append(volumes[i+window+forecast-1])\n",
    "\n",
    "\n",
    "X = np.array(x_all)\n",
    "y = np.array(y_all)\n"
   ]
  },
  {
   "cell_type": "code",
   "execution_count": null,
   "id": "6013ccbf",
   "metadata": {},
   "outputs": [
    {
     "data": {
      "text/plain": [
       "(276664, 1)"
      ]
     },
     "execution_count": 5,
     "metadata": {},
     "output_type": "execute_result"
    }
   ],
   "source": [
    "\n",
    "y_prescale = y.reshape(-1,1)\n",
    "y_prescale.shape"
   ]
  },
  {
   "cell_type": "code",
   "execution_count": 6,
   "id": "dad59e03",
   "metadata": {},
   "outputs": [],
   "source": [
    "Scaler = MinMaxScaler()\n",
    "\n",
    "X_scaled = Scaler.fit_transform(X)\n",
    "y_scaled = Scaler.fit_transform(y_prescale)"
   ]
  },
  {
   "cell_type": "code",
   "execution_count": 7,
   "id": "ca06c50d",
   "metadata": {},
   "outputs": [],
   "source": [
    "X_scaled = X_scaled.reshape((X_scaled.shape[0], window, 1))\n",
    "\n",
    "X_train, X_test, y_train, y_test = train_test_split(\n",
    "    X_scaled, y_scaled, test_size=0.2, shuffle=False\n",
    ")\n"
   ]
  },
  {
   "cell_type": "markdown",
   "id": "df15af44",
   "metadata": {},
   "source": [
    "# LSTM Model\n"
   ]
  },
  {
   "cell_type": "code",
   "execution_count": 8,
   "id": "25c4b514",
   "metadata": {},
   "outputs": [
    {
     "ename": "ModuleNotFoundError",
     "evalue": "No module named 'tensorflow.python'",
     "output_type": "error",
     "traceback": [
      "\u001b[31m---------------------------------------------------------------------------\u001b[39m",
      "\u001b[31mModuleNotFoundError\u001b[39m                       Traceback (most recent call last)",
      "\u001b[36mCell\u001b[39m\u001b[36m \u001b[39m\u001b[32mIn[8]\u001b[39m\u001b[32m, line 1\u001b[39m\n\u001b[32m----> \u001b[39m\u001b[32m1\u001b[39m \u001b[38;5;28;01mfrom\u001b[39;00m\u001b[38;5;250m \u001b[39m\u001b[34;01mtensorflow\u001b[39;00m\u001b[34;01m.\u001b[39;00m\u001b[34;01mkeras\u001b[39;00m\u001b[34;01m.\u001b[39;00m\u001b[34;01mmodels\u001b[39;00m\u001b[38;5;250m \u001b[39m\u001b[38;5;28;01mimport\u001b[39;00m Sequential\n\u001b[32m      2\u001b[39m \u001b[38;5;28;01mfrom\u001b[39;00m\u001b[38;5;250m \u001b[39m\u001b[34;01mtensorflow\u001b[39;00m\u001b[34;01m.\u001b[39;00m\u001b[34;01mkeras\u001b[39;00m\u001b[34;01m.\u001b[39;00m\u001b[34;01mlayers\u001b[39;00m\u001b[38;5;250m \u001b[39m\u001b[38;5;28;01mimport\u001b[39;00m LSTM, Dense\n\u001b[32m      3\u001b[39m \u001b[38;5;28;01mfrom\u001b[39;00m\u001b[38;5;250m \u001b[39m\u001b[34;01mtensorflow\u001b[39;00m\u001b[34;01m.\u001b[39;00m\u001b[34;01mkeras\u001b[39;00m\u001b[34;01m.\u001b[39;00m\u001b[34;01mcallbacks\u001b[39;00m\u001b[38;5;250m \u001b[39m\u001b[38;5;28;01mimport\u001b[39;00m EarlyStopping\n",
      "\u001b[36mFile \u001b[39m\u001b[32mc:\\Users\\chath\\OneDrive\\Desktop\\SWIN\\Semester 4\\Introduction to A.I\\Assignment2B\\Assignment\\Lib\\site-packages\\tensorflow\\__init__.py:40\u001b[39m\n\u001b[32m     37\u001b[39m _os.environ.setdefault(\u001b[33m\"\u001b[39m\u001b[33mENABLE_RUNTIME_UPTIME_TELEMETRY\u001b[39m\u001b[33m\"\u001b[39m, \u001b[33m\"\u001b[39m\u001b[33m1\u001b[39m\u001b[33m\"\u001b[39m)\n\u001b[32m     39\u001b[39m \u001b[38;5;66;03m# Do not remove this line; See https://github.com/tensorflow/tensorflow/issues/42596\u001b[39;00m\n\u001b[32m---> \u001b[39m\u001b[32m40\u001b[39m \u001b[38;5;28;01mfrom\u001b[39;00m\u001b[38;5;250m \u001b[39m\u001b[34;01mtensorflow\u001b[39;00m\u001b[34;01m.\u001b[39;00m\u001b[34;01mpython\u001b[39;00m\u001b[38;5;250m \u001b[39m\u001b[38;5;28;01mimport\u001b[39;00m pywrap_tensorflow \u001b[38;5;28;01mas\u001b[39;00m _pywrap_tensorflow  \u001b[38;5;66;03m# pylint: disable=unused-import\u001b[39;00m\n\u001b[32m     41\u001b[39m \u001b[38;5;28;01mfrom\u001b[39;00m\u001b[38;5;250m \u001b[39m\u001b[34;01mtensorflow\u001b[39;00m\u001b[34;01m.\u001b[39;00m\u001b[34;01mpython\u001b[39;00m\u001b[34;01m.\u001b[39;00m\u001b[34;01mtools\u001b[39;00m\u001b[38;5;250m \u001b[39m\u001b[38;5;28;01mimport\u001b[39;00m module_util \u001b[38;5;28;01mas\u001b[39;00m _module_util\n\u001b[32m     42\u001b[39m \u001b[38;5;28;01mfrom\u001b[39;00m\u001b[38;5;250m \u001b[39m\u001b[34;01mtensorflow\u001b[39;00m\u001b[34;01m.\u001b[39;00m\u001b[34;01mpython\u001b[39;00m\u001b[34;01m.\u001b[39;00m\u001b[34;01mutil\u001b[39;00m\u001b[34;01m.\u001b[39;00m\u001b[34;01mlazy_loader\u001b[39;00m\u001b[38;5;250m \u001b[39m\u001b[38;5;28;01mimport\u001b[39;00m KerasLazyLoader \u001b[38;5;28;01mas\u001b[39;00m _KerasLazyLoader\n",
      "\u001b[31mModuleNotFoundError\u001b[39m: No module named 'tensorflow.python'"
     ]
    }
   ],
   "source": [
    "from tensorflow.keras.models import Sequential\n",
    "from tensorflow.keras.layers import LSTM, Dense\n",
    "from tensorflow.keras.callbacks import EarlyStopping\n",
    "from tensorflow.keras.layers import Dropout\n",
    "from tensorflow.keras import regularizers"
   ]
  }
 ],
 "metadata": {
  "kernelspec": {
   "display_name": "Assignment",
   "language": "python",
   "name": "python3"
  },
  "language_info": {
   "codemirror_mode": {
    "name": "ipython",
    "version": 3
   },
   "file_extension": ".py",
   "mimetype": "text/x-python",
   "name": "python",
   "nbconvert_exporter": "python",
   "pygments_lexer": "ipython3",
   "version": "3.12.5"
  }
 },
 "nbformat": 4,
 "nbformat_minor": 5
}
