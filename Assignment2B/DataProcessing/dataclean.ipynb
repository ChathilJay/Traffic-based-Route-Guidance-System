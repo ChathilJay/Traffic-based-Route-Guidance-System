{
 "cells": [
  {
   "cell_type": "code",
   "execution_count": 3,
   "id": "ebd2588c",
   "metadata": {},
   "outputs": [
    {
     "name": "stderr",
     "output_type": "stream",
     "text": [
      "<>:4: SyntaxWarning: invalid escape sequence '\\D'\n",
      "<>:4: SyntaxWarning: invalid escape sequence '\\D'\n",
      "C:\\Users\\chath\\AppData\\Local\\Temp\\ipykernel_29760\\1123400271.py:4: SyntaxWarning: invalid escape sequence '\\D'\n",
      "  df_raw = pd.read_excel('..\\Documents/Scats Data October 2006.xls', sheet_name='Data', header=None)\n"
     ]
    },
    {
     "name": "stdout",
     "output_type": "stream",
     "text": [
      "📊 Raw shape: (4194, 106)\n",
      "               0                                1          2            3  \\\n",
      "0            NaN                              NaN        NaN          NaN   \n",
      "1   SCATS Number                         Location  CD_MELWAY  NB_LATITUDE   \n",
      "2           0970  WARRIGAL_RD N of HIGH STREET_RD    060 G10    -37.86703   \n",
      "3           0970  WARRIGAL_RD N of HIGH STREET_RD    060 G10    -37.86703   \n",
      "4           0970  WARRIGAL_RD N of HIGH STREET_RD    060 G10    -37.86703   \n",
      "5           0970  WARRIGAL_RD N of HIGH STREET_RD    060 G10    -37.86703   \n",
      "6           0970  WARRIGAL_RD N of HIGH STREET_RD    060 G10    -37.86703   \n",
      "7           0970  WARRIGAL_RD N of HIGH STREET_RD    060 G10    -37.86703   \n",
      "8           0970  WARRIGAL_RD N of HIGH STREET_RD    060 G10    -37.86703   \n",
      "9           0970  WARRIGAL_RD N of HIGH STREET_RD    060 G10    -37.86703   \n",
      "10          0970  WARRIGAL_RD N of HIGH STREET_RD    060 G10    -37.86703   \n",
      "11          0970  WARRIGAL_RD N of HIGH STREET_RD    060 G10    -37.86703   \n",
      "12          0970  WARRIGAL_RD N of HIGH STREET_RD    060 G10    -37.86703   \n",
      "13          0970  WARRIGAL_RD N of HIGH STREET_RD    060 G10    -37.86703   \n",
      "14          0970  WARRIGAL_RD N of HIGH STREET_RD    060 G10    -37.86703   \n",
      "\n",
      "               4                     5                 6                7  \\\n",
      "0            NaN                   NaN               NaN              NaN   \n",
      "1   NB_LONGITUDE  HF VicRoads Internal  VR Internal Stat  VR Internal Loc   \n",
      "2      145.09159                   249               182                1   \n",
      "3      145.09159                   249               182                1   \n",
      "4      145.09159                   249               182                1   \n",
      "5      145.09159                   249               182                1   \n",
      "6      145.09159                   249               182                1   \n",
      "7      145.09159                   249               182                1   \n",
      "8      145.09159                   249               182                1   \n",
      "9      145.09159                   249               182                1   \n",
      "10     145.09159                   249               182                1   \n",
      "11     145.09159                   249               182                1   \n",
      "12     145.09159                   249               182                1   \n",
      "13     145.09159                   249               182                1   \n",
      "14     145.09159                   249               182                1   \n",
      "\n",
      "                 8                    9  \n",
      "0              NaN           Start Time  \n",
      "1   NB_TYPE_SURVEY                 Date  \n",
      "2                1  2006-10-01 00:15:00  \n",
      "3                1  2006-10-02 00:15:00  \n",
      "4                1  2006-10-03 00:15:00  \n",
      "5                1  2006-10-04 00:15:00  \n",
      "6                1  2006-10-05 00:15:00  \n",
      "7                1  2006-10-06 00:15:00  \n",
      "8                1  2006-10-07 00:15:00  \n",
      "9                1  2006-10-08 00:15:00  \n",
      "10               1  2006-10-09 00:15:00  \n",
      "11               1  2006-10-10 00:15:00  \n",
      "12               1  2006-10-11 00:15:00  \n",
      "13               1  2006-10-12 00:15:00  \n",
      "14               1  2006-10-13 00:15:00  \n"
     ]
    }
   ],
   "source": [
    "import pandas as pd\n",
    "\n",
    "# Load the file without assuming headers\n",
    "df_raw = pd.read_excel('..\\Documents/Scats Data October 2006.xls', sheet_name='Data', header=None)\n",
    "\n",
    "# Show first 15 rows and columns\n",
    "print(\"📊 Raw shape:\", df_raw.shape)\n",
    "print(df_raw.iloc[:15, :10])  # top 15 rows × 10 columns\n"
   ]
  },
  {
   "cell_type": "code",
   "execution_count": 4,
   "id": "56542bf7",
   "metadata": {},
   "outputs": [
    {
     "name": "stderr",
     "output_type": "stream",
     "text": [
      "<>:4: SyntaxWarning: invalid escape sequence '\\D'\n",
      "<>:4: SyntaxWarning: invalid escape sequence '\\D'\n",
      "C:\\Users\\chath\\AppData\\Local\\Temp\\ipykernel_29760\\1954648001.py:4: SyntaxWarning: invalid escape sequence '\\D'\n",
      "  df = pd.read_excel('..\\Documents/Scats Data October 2006.xls', sheet_name='Data', skiprows=1)\n"
     ]
    },
    {
     "name": "stdout",
     "output_type": "stream",
     "text": [
      "['SCATS Number', 'Location', 'CD_MELWAY', 'NB_LATITUDE', 'NB_LONGITUDE', 'HF VicRoads Internal', 'VR Internal Stat', 'VR Internal Loc', 'NB_TYPE_SURVEY', 'Date', 'V00', 'V01', 'V02', 'V03', 'V04', 'V05', 'V06', 'V07', 'V08', 'V09', 'V10', 'V11', 'V12', 'V13', 'V14', 'V15', 'V16', 'V17', 'V18', 'V19', 'V20', 'V21', 'V22', 'V23', 'V24', 'V25', 'V26', 'V27', 'V28', 'V29', 'V30', 'V31', 'V32', 'V33', 'V34', 'V35', 'V36', 'V37', 'V38', 'V39', 'V40', 'V41', 'V42', 'V43', 'V44', 'V45', 'V46', 'V47', 'V48', 'V49', 'V50', 'V51', 'V52', 'V53', 'V54', 'V55', 'V56', 'V57', 'V58', 'V59', 'V60', 'V61', 'V62', 'V63', 'V64', 'V65', 'V66', 'V67', 'V68', 'V69', 'V70', 'V71', 'V72', 'V73', 'V74', 'V75', 'V76', 'V77', 'V78', 'V79', 'V80', 'V81', 'V82', 'V83', 'V84', 'V85', 'V86', 'V87', 'V88', 'V89', 'V90', 'V91', 'V92', 'V93', 'V94', 'V95']\n",
      "   SCATS Number                         Location CD_MELWAY  NB_LATITUDE  \\\n",
      "0           970  WARRIGAL_RD N of HIGH STREET_RD   060 G10    -37.86703   \n",
      "1           970  WARRIGAL_RD N of HIGH STREET_RD   060 G10    -37.86703   \n",
      "2           970  WARRIGAL_RD N of HIGH STREET_RD   060 G10    -37.86703   \n",
      "3           970  WARRIGAL_RD N of HIGH STREET_RD   060 G10    -37.86703   \n",
      "4           970  WARRIGAL_RD N of HIGH STREET_RD   060 G10    -37.86703   \n",
      "\n",
      "   NB_LONGITUDE  HF VicRoads Internal  VR Internal Stat  VR Internal Loc  \\\n",
      "0     145.09159                   249               182                1   \n",
      "1     145.09159                   249               182                1   \n",
      "2     145.09159                   249               182                1   \n",
      "3     145.09159                   249               182                1   \n",
      "4     145.09159                   249               182                1   \n",
      "\n",
      "   NB_TYPE_SURVEY                Date  ...  V86  V87  V88  V89  V90  V91  V92  \\\n",
      "0               1 2006-10-01 00:15:00  ...  114   97   97   66   81   50   59   \n",
      "1               1 2006-10-02 00:15:00  ...  111  102  107  114   80   60   62   \n",
      "2               1 2006-10-03 00:15:00  ...  130  132  114   86   93   90   73   \n",
      "3               1 2006-10-04 00:15:00  ...  115  113  132  101  113   90   78   \n",
      "4               1 2006-10-05 00:15:00  ...  171  120  116  113   99   91   61   \n",
      "\n",
      "   V93  V94  V95  \n",
      "0   47   29   34  \n",
      "1   48   44   26  \n",
      "2   57   29   40  \n",
      "3   66   52   44  \n",
      "4   55   49   36  \n",
      "\n",
      "[5 rows x 106 columns]\n"
     ]
    }
   ],
   "source": [
    "import pandas as pd\n",
    "\n",
    "# Load starting from proper header row\n",
    "df = pd.read_excel('..\\Documents/Scats Data October 2006.xls', sheet_name='Data', skiprows=1)\n",
    "\n",
    "print(df.columns.tolist())  # Print column names to identify the volume column\n",
    "print(df.head())\n"
   ]
  },
  {
   "cell_type": "code",
   "execution_count": 6,
   "id": "b80cf07a",
   "metadata": {},
   "outputs": [
    {
     "name": "stderr",
     "output_type": "stream",
     "text": [
      "<>:5: SyntaxWarning: invalid escape sequence '\\D'\n",
      "<>:29: SyntaxWarning: invalid escape sequence '\\M'\n",
      "<>:5: SyntaxWarning: invalid escape sequence '\\D'\n",
      "<>:29: SyntaxWarning: invalid escape sequence '\\M'\n",
      "C:\\Users\\chath\\AppData\\Local\\Temp\\ipykernel_29760\\3340047565.py:5: SyntaxWarning: invalid escape sequence '\\D'\n",
      "  df = pd.read_excel('..\\Documents/Scats Data October 2006.xls', sheet_name='Data', skiprows=1)\n",
      "C:\\Users\\chath\\AppData\\Local\\Temp\\ipykernel_29760\\3340047565.py:29: SyntaxWarning: invalid escape sequence '\\M'\n",
      "  pd.to_pickle(site_data, '..\\Main/site_data.pkl')\n"
     ]
    },
    {
     "name": "stdout",
     "output_type": "stream",
     "text": [
      "✅ Created time series for 40 SCATS sites.\n",
      "📁 Saved to Main/site_data.pkl\n"
     ]
    }
   ],
   "source": [
    "import pandas as pd\n",
    "from datetime import timedelta\n",
    "\n",
    "# Load correct data\n",
    "df = pd.read_excel('..\\Documents/Scats Data October 2006.xls', sheet_name='Data', skiprows=1)\n",
    "\n",
    "# Prepare storage\n",
    "site_data = {}\n",
    "\n",
    "# All volume columns\n",
    "volume_columns = [col for col in df.columns if col.startswith(\"V\") and col[1:].isdigit()]\n",
    "\n",
    "for _, row in df.iterrows():\n",
    "    site_id = int(row['SCATS Number'])\n",
    "    base_time = pd.to_datetime(row['Date'])\n",
    "    \n",
    "    if site_id not in site_data:\n",
    "        site_data[site_id] = {}\n",
    "    \n",
    "    for i, vcol in enumerate(volume_columns):\n",
    "        timestamp = base_time + timedelta(minutes=15 * i)\n",
    "        volume = row[vcol]\n",
    "        if pd.notna(volume):\n",
    "            site_data[site_id][timestamp] = volume\n",
    "\n",
    "print(f\"✅ Created time series for {len(site_data)} SCATS sites.\")\n",
    "\n",
    "# Save\n",
    "pd.to_pickle(site_data, '..\\Main/site_data.pkl')\n",
    "print(\"📁 Saved to Main/site_data.pkl\")\n"
   ]
  },
  {
   "cell_type": "code",
   "execution_count": null,
   "id": "99753573",
   "metadata": {},
   "outputs": [],
   "source": [
    "import pandas as pd\n",
    "\n",
    "# Use raw string or forward slashes to avoid escape warnings\n",
    "df = pd.read_csv(r'..\\Documents/Traffic_Count_Locations_with_LONG_LAT.csv')\n",
    "\n",
    "# Show actual column names\n",
    "print(\"📋 Available columns in CSV:\")\n",
    "print(df.columns.tolist())\n"
   ]
  }
 ],
 "metadata": {
  "kernelspec": {
   "display_name": "Python 3",
   "language": "python",
   "name": "python3"
  },
  "language_info": {
   "codemirror_mode": {
    "name": "ipython",
    "version": 3
   },
   "file_extension": ".py",
   "mimetype": "text/x-python",
   "name": "python",
   "nbconvert_exporter": "python",
   "pygments_lexer": "ipython3",
   "version": "3.12.5"
  }
 },
 "nbformat": 4,
 "nbformat_minor": 5
}
